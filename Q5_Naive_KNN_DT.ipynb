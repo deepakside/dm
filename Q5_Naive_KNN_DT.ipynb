{
 "cells": [
  {
   "cell_type": "markdown",
   "id": "71021025",
   "metadata": {},
   "source": [
    "# Ques5. Use Naive bayes, K-nearest, and Decision tree classification algorithms and buildclassifiers. Divide the data set in to training and test set.\n",
    "### Compare the accuracy of thedifferent classifiers under the following situations:\n",
    "#### 5.1 a) Training set = 75% Test set = 25%\n",
    "#### 5.1 b) Training set = 66.6% (2/3rd of total), Test set = 33.3%\n",
    "#### 5.2 Training set is chosen by\n",
    " ##### i) hold out method\n",
    " ##### ii) Random subsampling\n",
    "##### iii) Cross-Validation. Compare the accuracy of the classifiers obtained.\n",
    "#### 5.3 Data is scaled to standard format. "
   ]
  },
  {
   "cell_type": "code",
   "execution_count": 1,
   "id": "7c5d4197",
   "metadata": {},
   "outputs": [],
   "source": [
    "#importing necessary Libraries\n",
    "import pandas as pd\n",
    "import numpy as np\n",
    "import matplotlib.pyplot as plt\n",
    "import seaborn as sns\n",
    "%matplotlib inline\n",
    "import warnings\n",
    "warnings.filterwarnings('ignore')\n",
    " \n",
    "#importing libraries for machine learning\n",
    "from sklearn.model_selection import train_test_split\n",
    "from sklearn.preprocessing import StandardScaler\n",
    "from sklearn.naive_bayes import GaussianNB\n",
    "from sklearn.neighbors import KNeighborsClassifier\n",
    "from sklearn.tree import DecisionTreeClassifier\n",
    "from sklearn.metrics import confusion_matrix, accuracy_score\n",
    "from sklearn.metrics import classification_report\n",
    "from sklearn import metrics\n",
    "from sklearn import model_selection"
   ]
  },
  {
   "cell_type": "code",
   "execution_count": 2,
   "id": "5d74d271",
   "metadata": {},
   "outputs": [
    {
     "data": {
      "text/html": [
       "<div>\n",
       "<style scoped>\n",
       "    .dataframe tbody tr th:only-of-type {\n",
       "        vertical-align: middle;\n",
       "    }\n",
       "\n",
       "    .dataframe tbody tr th {\n",
       "        vertical-align: top;\n",
       "    }\n",
       "\n",
       "    .dataframe thead th {\n",
       "        text-align: right;\n",
       "    }\n",
       "</style>\n",
       "<table border=\"1\" class=\"dataframe\">\n",
       "  <thead>\n",
       "    <tr style=\"text-align: right;\">\n",
       "      <th></th>\n",
       "      <th>Pregnancies</th>\n",
       "      <th>Glucose</th>\n",
       "      <th>BloodPressure</th>\n",
       "      <th>SkinThickness</th>\n",
       "      <th>Insulin</th>\n",
       "      <th>BMI</th>\n",
       "      <th>DiabetesPedigreeFunction</th>\n",
       "      <th>Age</th>\n",
       "      <th>Outcome</th>\n",
       "    </tr>\n",
       "  </thead>\n",
       "  <tbody>\n",
       "    <tr>\n",
       "      <th>0</th>\n",
       "      <td>6</td>\n",
       "      <td>148</td>\n",
       "      <td>72</td>\n",
       "      <td>35</td>\n",
       "      <td>0</td>\n",
       "      <td>33.6</td>\n",
       "      <td>0.627</td>\n",
       "      <td>50</td>\n",
       "      <td>1</td>\n",
       "    </tr>\n",
       "    <tr>\n",
       "      <th>1</th>\n",
       "      <td>1</td>\n",
       "      <td>85</td>\n",
       "      <td>66</td>\n",
       "      <td>29</td>\n",
       "      <td>0</td>\n",
       "      <td>26.6</td>\n",
       "      <td>0.351</td>\n",
       "      <td>31</td>\n",
       "      <td>0</td>\n",
       "    </tr>\n",
       "    <tr>\n",
       "      <th>2</th>\n",
       "      <td>8</td>\n",
       "      <td>183</td>\n",
       "      <td>64</td>\n",
       "      <td>0</td>\n",
       "      <td>0</td>\n",
       "      <td>23.3</td>\n",
       "      <td>0.672</td>\n",
       "      <td>32</td>\n",
       "      <td>1</td>\n",
       "    </tr>\n",
       "    <tr>\n",
       "      <th>3</th>\n",
       "      <td>1</td>\n",
       "      <td>89</td>\n",
       "      <td>66</td>\n",
       "      <td>23</td>\n",
       "      <td>94</td>\n",
       "      <td>28.1</td>\n",
       "      <td>0.167</td>\n",
       "      <td>21</td>\n",
       "      <td>0</td>\n",
       "    </tr>\n",
       "    <tr>\n",
       "      <th>4</th>\n",
       "      <td>0</td>\n",
       "      <td>137</td>\n",
       "      <td>40</td>\n",
       "      <td>35</td>\n",
       "      <td>168</td>\n",
       "      <td>43.1</td>\n",
       "      <td>2.288</td>\n",
       "      <td>33</td>\n",
       "      <td>1</td>\n",
       "    </tr>\n",
       "  </tbody>\n",
       "</table>\n",
       "</div>"
      ],
      "text/plain": [
       "   Pregnancies  Glucose  BloodPressure  SkinThickness  Insulin   BMI  \\\n",
       "0            6      148             72             35        0  33.6   \n",
       "1            1       85             66             29        0  26.6   \n",
       "2            8      183             64              0        0  23.3   \n",
       "3            1       89             66             23       94  28.1   \n",
       "4            0      137             40             35      168  43.1   \n",
       "\n",
       "   DiabetesPedigreeFunction  Age  Outcome  \n",
       "0                     0.627   50        1  \n",
       "1                     0.351   31        0  \n",
       "2                     0.672   32        1  \n",
       "3                     0.167   21        0  \n",
       "4                     2.288   33        1  "
      ]
     },
     "execution_count": 2,
     "metadata": {},
     "output_type": "execute_result"
    }
   ],
   "source": [
    "#importing the dataset\n",
    "df = pd.read_csv('diabetes.csv')\n",
    "df.head()"
   ]
  },
  {
   "cell_type": "code",
   "execution_count": 3,
   "id": "e4a6d29a",
   "metadata": {},
   "outputs": [
    {
     "name": "stdout",
     "output_type": "stream",
     "text": [
      "<class 'pandas.core.frame.DataFrame'>\n",
      "RangeIndex: 768 entries, 0 to 767\n",
      "Data columns (total 9 columns):\n",
      " #   Column                    Non-Null Count  Dtype  \n",
      "---  ------                    --------------  -----  \n",
      " 0   Pregnancies               768 non-null    int64  \n",
      " 1   Glucose                   768 non-null    int64  \n",
      " 2   BloodPressure             768 non-null    int64  \n",
      " 3   SkinThickness             768 non-null    int64  \n",
      " 4   Insulin                   768 non-null    int64  \n",
      " 5   BMI                       768 non-null    float64\n",
      " 6   DiabetesPedigreeFunction  768 non-null    float64\n",
      " 7   Age                       768 non-null    int64  \n",
      " 8   Outcome                   768 non-null    int64  \n",
      "dtypes: float64(2), int64(7)\n",
      "memory usage: 54.1 KB\n"
     ]
    }
   ],
   "source": [
    "df.info()"
   ]
  },
  {
   "cell_type": "code",
   "execution_count": 4,
   "id": "84b46a60",
   "metadata": {},
   "outputs": [
    {
     "data": {
      "text/plain": [
       "Pregnancies                 0\n",
       "Glucose                     0\n",
       "BloodPressure               0\n",
       "SkinThickness               0\n",
       "Insulin                     0\n",
       "BMI                         0\n",
       "DiabetesPedigreeFunction    0\n",
       "Age                         0\n",
       "Outcome                     0\n",
       "dtype: int64"
      ]
     },
     "execution_count": 4,
     "metadata": {},
     "output_type": "execute_result"
    }
   ],
   "source": [
    "df.isna().sum()"
   ]
  },
  {
   "cell_type": "code",
   "execution_count": 5,
   "id": "6b742d80",
   "metadata": {},
   "outputs": [
    {
     "data": {
      "image/png": "[encoded data removed]",
      "text/plain": [
       "<Figure size 1000x500 with 2 Axes>"
      ]
     },
     "metadata": {},
     "output_type": "display_data"
    }
   ],
   "source": [
    "\n",
    "fig = plt.figure(figsize=(10,5))\n",
    "#1\n",
    "plt.subplot(1,2,1)\n",
    "sns.countplot(x = 'Outcome', data = df)\n",
    "#2\n",
    "plt.subplot(1,2,2)\n",
    "df['Outcome'].value_counts().plot.pie(startangle = 90,autopct = '%1.1f%%')\n",
    "plt.show()\n"
   ]
  },
  {
   "cell_type": "code",
   "execution_count": 6,
   "id": "c55d60d2",
   "metadata": {},
   "outputs": [],
   "source": [
    "#assigning independent variables to x and dependent variable or response var\n",
    "x = df.drop('Outcome',axis = 1)\n",
    "y = df['Outcome']"
   ]
  },
  {
   "cell_type": "markdown",
   "id": "4229dc85",
   "metadata": {},
   "source": [
    "# 1.Naive Bayers\n",
    "### 5.1a) Splitting the dataframe into training and testing data in 75:25 ratio"
   ]
  },
  {
   "cell_type": "code",
   "execution_count": 7,
   "id": "5a213acc",
   "metadata": {},
   "outputs": [
    {
     "name": "stdout",
     "output_type": "stream",
     "text": [
      "[[107  23]\n",
      " [ 23  39]]\n",
      "Classification report : \n",
      "               precision    recall  f1-score   support\n",
      "\n",
      "           0       0.82      0.82      0.82       130\n",
      "           1       0.63      0.63      0.63        62\n",
      "\n",
      "    accuracy                           0.76       192\n",
      "   macro avg       0.73      0.73      0.73       192\n",
      "weighted avg       0.76      0.76      0.76       192\n",
      "\n",
      "Accuracy Score: 0.7604166666666666\n"
     ]
    }
   ],
   "source": [
    "x_train, x_test, y_train, y_test = train_test_split(x,y,test_size = 0.25, random_state=25)\n",
    "gbl = GaussianNB()\n",
    "gbl.fit(x_train, y_train)\n",
    " \n",
    "y_pred = gbl.predict(x_test)\n",
    "y_pred\n",
    " \n",
    "print(confusion_matrix(y_test,y_pred))\n",
    " \n",
    "print(\"Classification report : \\n\", classification_report(y_test,y_pred))\n",
    " \n",
    "acl = accuracy_score(y_test,y_pred)\n",
    "print(\"Accuracy Score:\",acl)"
   ]
  },
  {
   "cell_type": "markdown",
   "id": "cc5fdc3f",
   "metadata": {},
   "source": [
    "### 5.1b) Splitting the dataframe into training and testing data in 66.6:33.3 ratio"
   ]
  },
  {
   "cell_type": "code",
   "execution_count": 8,
   "id": "d2066b33",
   "metadata": {},
   "outputs": [
    {
     "name": "stdout",
     "output_type": "stream",
     "text": [
      "[[145  26]\n",
      " [ 26  59]]\n",
      "Classification report : \n",
      "               precision    recall  f1-score   support\n",
      "\n",
      "           0       0.85      0.85      0.85       171\n",
      "           1       0.69      0.69      0.69        85\n",
      "\n",
      "    accuracy                           0.80       256\n",
      "   macro avg       0.77      0.77      0.77       256\n",
      "weighted avg       0.80      0.80      0.80       256\n",
      "\n",
      "Accuracy Score: 0.796875\n"
     ]
    }
   ],
   "source": [
    "x_train, x_test, y_train, y_test = train_test_split(x,y,test_size = 0.333, random_state=25)\n",
    "gb2 = GaussianNB()\n",
    "gb2.fit(x_train, y_train)\n",
    " \n",
    "y_pred = gb2.predict(x_test)\n",
    "y_pred\n",
    " \n",
    "print(confusion_matrix(y_test,y_pred))\n",
    " \n",
    "print(\"Classification report : \\n\", classification_report(y_test,y_pred))\n",
    " \n",
    "ac2 = accuracy_score(y_test,y_pred)\n",
    "print(\"Accuracy Score:\",ac2)"
   ]
  },
  {
   "cell_type": "markdown",
   "id": "a84fbb16",
   "metadata": {},
   "source": [
    "### Comparing accuracy score of 25% and 33.3% split"
   ]
  },
  {
   "cell_type": "code",
   "execution_count": 9,
   "id": "bbe2c8e3",
   "metadata": {},
   "outputs": [
    {
     "name": "stdout",
     "output_type": "stream",
     "text": [
      "Test data of 33.3% data is better\n"
     ]
    }
   ],
   "source": [
    "if acl > ac2:\n",
    " print(\"Test data of 25% data is better\")\n",
    "else:\n",
    " print(\"Test data of 33.3% data is better\")"
   ]
  },
  {
   "cell_type": "markdown",
   "id": "c5f75e70",
   "metadata": {},
   "source": [
    "### 5.2(i) Holdout Method"
   ]
  },
  {
   "cell_type": "code",
   "execution_count": 10,
   "id": "ec5192f3",
   "metadata": {},
   "outputs": [
    {
     "name": "stdout",
     "output_type": "stream",
     "text": [
      "[[107  23]\n",
      " [ 23  39]]\n",
      "Classification report : \n",
      "               precision    recall  f1-score   support\n",
      "\n",
      "           0       0.82      0.82      0.82       130\n",
      "           1       0.63      0.63      0.63        62\n",
      "\n",
      "    accuracy                           0.76       192\n",
      "   macro avg       0.73      0.73      0.73       192\n",
      "weighted avg       0.76      0.76      0.76       192\n",
      "\n",
      "Accuracy Score: 0.7604166666666666\n"
     ]
    }
   ],
   "source": [
    "x_train, x_test, y_train, y_test = train_test_split(x,y,test_size = 0.25, random_state=25)\n",
    "gb3 = GaussianNB()\n",
    "gb3.fit(x_train, y_train)\n",
    " \n",
    "y_pred = gb3.predict(x_test)\n",
    "y_pred\n",
    " \n",
    "print(confusion_matrix(y_test,y_pred))\n",
    " \n",
    "print(\"Classification report : \\n\", classification_report(y_test,y_pred))\n",
    " \n",
    "ac3 = accuracy_score(y_test,y_pred)\n",
    "print(\"Accuracy Score:\",ac3)\n"
   ]
  },
  {
   "cell_type": "markdown",
   "id": "483c5ee5",
   "metadata": {},
   "source": [
    "### 5.2(iii) K Fold Cross Validation"
   ]
  },
  {
   "cell_type": "code",
   "execution_count": 11,
   "id": "b5003162",
   "metadata": {},
   "outputs": [
    {
     "name": "stdout",
     "output_type": "stream",
     "text": [
      "[0.70689655 0.80869565 0.74782609 0.7826087  0.76521739]\n",
      "Avg accuracy: 0.7622488755622189\n"
     ]
    }
   ],
   "source": [
    "kfold = model_selection.KFold(n_splits =5,random_state=10,shuffle = True)\n",
    "result = model_selection.cross_val_score(gbl,x_train,y_train,cv = kfold)\n",
    "print(result)\n",
    "print(\"Avg accuracy: {}\".format(result.mean()))"
   ]
  },
  {
   "cell_type": "markdown",
   "id": "7e08b38c",
   "metadata": {},
   "source": [
    "### Comparing Hold Method and Cross Validation"
   ]
  },
  {
   "cell_type": "code",
   "execution_count": 12,
   "id": "b6b85be5",
   "metadata": {},
   "outputs": [
    {
     "name": "stdout",
     "output_type": "stream",
     "text": [
      "K Fold performs better than cross validation\n"
     ]
    }
   ],
   "source": [
    "print(\"K Fold performs better than cross validation\")"
   ]
  },
  {
   "cell_type": "markdown",
   "id": "08bbec4f",
   "metadata": {},
   "source": [
    "### 5.3 Standard Scaler"
   ]
  },
  {
   "cell_type": "code",
   "execution_count": 13,
   "id": "bd93bc69",
   "metadata": {},
   "outputs": [
    {
     "name": "stdout",
     "output_type": "stream",
     "text": [
      "[[87 16]\n",
      " [20 31]]\n",
      "Classification report : \n",
      "               precision    recall  f1-score   support\n",
      "\n",
      "           0       0.81      0.84      0.83       103\n",
      "           1       0.66      0.61      0.63        51\n",
      "\n",
      "    accuracy                           0.77       154\n",
      "   macro avg       0.74      0.73      0.73       154\n",
      "weighted avg       0.76      0.77      0.76       154\n",
      "\n",
      "Accuracy Score: 0.7662337662337663\n"
     ]
    }
   ],
   "source": [
    "x_train, x_test, y_train, y_test = train_test_split(x,y,test_size = 0.20, random_state=25)\n",
    "sc = StandardScaler()\n",
    "x_train = sc.fit_transform(x_train)\n",
    "x_test = sc.transform(x_test)\n",
    "gb5 = GaussianNB()\n",
    "gb5.fit(x_train, y_train)\n",
    " \n",
    "y_pred = gb5.predict(x_test)\n",
    "y_pred\n",
    " \n",
    "print(confusion_matrix(y_test,y_pred))\n",
    " \n",
    "print(\"Classification report : \\n\", classification_report(y_test,y_pred))\n",
    " \n",
    "ac5 = accuracy_score(y_test,y_pred)\n",
    "print(\"Accuracy Score:\",ac5)"
   ]
  },
  {
   "cell_type": "markdown",
   "id": "176a4c8f",
   "metadata": {},
   "source": [
    "### Comparing Standard Scaler with default parameters"
   ]
  },
  {
   "cell_type": "code",
   "execution_count": 14,
   "id": "b848f3d2",
   "metadata": {},
   "outputs": [
    {
     "name": "stdout",
     "output_type": "stream",
     "text": [
      "Standard Scaler performs better\n"
     ]
    }
   ],
   "source": [
    "print(\"Standard Scaler performs better\")"
   ]
  },
  {
   "cell_type": "markdown",
   "id": "50fde73c",
   "metadata": {},
   "source": [
    "# KNN Model\n",
    "### 5.1a) Splitting the dataframe into training and testing data in 75:25 ratio\n"
   ]
  },
  {
   "cell_type": "code",
   "execution_count": 15,
   "id": "10a1146d",
   "metadata": {},
   "outputs": [
    {
     "data": {
      "image/png": "[encoded data removed]",
      "text/plain": [
       "<Figure size 1000x500 with 1 Axes>"
      ]
     },
     "metadata": {},
     "output_type": "display_data"
    }
   ],
   "source": [
    "x_train, x_test, y_train, y_test = train_test_split(x,y,test_size = 0.25, random_state=25)\n",
    "test_scores = []\n",
    "train_scores = []\n",
    "for i in range(1,15):\n",
    " knn = KNeighborsClassifier(i)\n",
    " knn.fit(x_train,y_train)\n",
    " \n",
    " train_scores.append(knn.score(x_train,y_train))\n",
    " test_scores.append(knn.score(x_test,y_test))\n",
    "plt.figure(figsize = (10,5))\n",
    "p = sns.lineplot(range(1,15),train_scores,marker='*',label='Train Score')\n",
    "p = sns.lineplot(range(1,15),test_scores,marker='o',label='Test Score')"
   ]
  },
  {
   "cell_type": "code",
   "execution_count": 16,
   "id": "3854b1e5",
   "metadata": {},
   "outputs": [
    {
     "name": "stdout",
     "output_type": "stream",
     "text": [
      "[[110  20]\n",
      " [ 31  31]]\n",
      "Classification report : \n",
      "               precision    recall  f1-score   support\n",
      "\n",
      "           0       0.78      0.85      0.81       130\n",
      "           1       0.61      0.50      0.55        62\n",
      "\n",
      "    accuracy                           0.73       192\n",
      "   macro avg       0.69      0.67      0.68       192\n",
      "weighted avg       0.72      0.73      0.73       192\n",
      "\n",
      "Accuracy Score: 0.734375\n"
     ]
    }
   ],
   "source": [
    "k1 = KNeighborsClassifier(n_neighbors = 11)\n",
    "k1.fit(x_train,y_train)\n",
    "y_pred = k1.predict(x_test)\n",
    "print(confusion_matrix(y_test,y_pred))\n",
    "print(\"Classification report : \\n\", classification_report(y_test,y_pred))\n",
    "acl = accuracy_score(y_test,y_pred)\n",
    "print(\"Accuracy Score:\",acl)"
   ]
  },
  {
   "cell_type": "markdown",
   "id": "bfe38fa8",
   "metadata": {},
   "source": [
    "### 5.1b) Splitting the dataframe into training and testing data in 66.6:33.3ratio"
   ]
  },
  {
   "cell_type": "code",
   "execution_count": 17,
   "id": "3f9f2a6f",
   "metadata": {},
   "outputs": [
    {
     "data": {
      "image/png": "[encoded data removed]",
      "text/plain": [
       "<Figure size 1000x500 with 1 Axes>"
      ]
     },
     "metadata": {},
     "output_type": "display_data"
    }
   ],
   "source": [
    "x_train, x_test, y_train, y_test = train_test_split(x,y,test_size = 0.333, random_state=25)\n",
    "test_scores = []\n",
    "train_scores = []\n",
    "for i in range(1,15):\n",
    " knn = KNeighborsClassifier(i)\n",
    " knn.fit(x_train,y_train)\n",
    " \n",
    " train_scores.append(knn.score(x_train,y_train))\n",
    " test_scores.append(knn.score(x_test,y_test))\n",
    "plt.figure(figsize = (10,5))\n",
    "p = sns.lineplot(range(1,15),train_scores,marker='*',label='Train Score')\n",
    "p = sns.lineplot(range(1,15),test_scores,marker='o',label='Test Score')"
   ]
  },
  {
   "cell_type": "code",
   "execution_count": 18,
   "id": "fde1431f",
   "metadata": {},
   "outputs": [
    {
     "name": "stdout",
     "output_type": "stream",
     "text": [
      "[[144  27]\n",
      " [ 41  44]]\n",
      "Classification report : \n",
      "               precision    recall  f1-score   support\n",
      "\n",
      "           0       0.78      0.84      0.81       171\n",
      "           1       0.62      0.52      0.56        85\n",
      "\n",
      "    accuracy                           0.73       256\n",
      "   macro avg       0.70      0.68      0.69       256\n",
      "weighted avg       0.73      0.73      0.73       256\n",
      "\n",
      "Accuracy Score: 0.734375\n"
     ]
    }
   ],
   "source": [
    "k2 = KNeighborsClassifier(n_neighbors = 9)\n",
    "k2.fit(x_train,y_train)\n",
    "y_pred = k2.predict(x_test)\n",
    "print(confusion_matrix(y_test,y_pred))\n",
    "print(\"Classification report : \\n\", classification_report(y_test,y_pred))\n",
    "ac2 = accuracy_score(y_test,y_pred)\n",
    "print(\"Accuracy Score:\",ac2)"
   ]
  },
  {
   "cell_type": "markdown",
   "id": "777f9cbe",
   "metadata": {},
   "source": [
    "### Comparing accuracy score of 25% and 33.3% split"
   ]
  },
  {
   "cell_type": "code",
   "execution_count": 19,
   "id": "b136a6cc",
   "metadata": {},
   "outputs": [
    {
     "name": "stdout",
     "output_type": "stream",
     "text": [
      "Test data of 33.3% data is better\n"
     ]
    }
   ],
   "source": [
    "if acl > ac2:\n",
    " print(\"Test data of 25% data is better\")\n",
    "else:\n",
    " print(\"Test data of 33.3% data is better\")"
   ]
  },
  {
   "cell_type": "markdown",
   "id": "d79f7350",
   "metadata": {},
   "source": [
    "### 5.2(i) Holdout Method"
   ]
  },
  {
   "cell_type": "code",
   "execution_count": 20,
   "id": "f54cd5ac",
   "metadata": {},
   "outputs": [
    {
     "data": {
      "image/png": "[encoded data removed]",
      "text/plain": [
       "<Figure size 1000x500 with 1 Axes>"
      ]
     },
     "metadata": {},
     "output_type": "display_data"
    }
   ],
   "source": [
    "x_train, x_test, y_train, y_test = train_test_split(x,y,test_size = 0.25, random_state=10)\n",
    "test_scores = []\n",
    "train_scores = []\n",
    "for i in range(1,15):\n",
    " knn = KNeighborsClassifier(i)\n",
    " knn.fit(x_train,y_train)\n",
    " \n",
    " train_scores.append(knn.score(x_train,y_train))\n",
    " test_scores.append(knn.score(x_test,y_test))\n",
    "plt.figure(figsize = (10,5))\n",
    "p = sns.lineplot(range(1,15),train_scores,marker='*',label='Train Score')\n",
    "p = sns.lineplot(range(1,15),test_scores,marker='o',label='Test Score')"
   ]
  },
  {
   "cell_type": "code",
   "execution_count": 21,
   "id": "f87d7d37",
   "metadata": {},
   "outputs": [
    {
     "name": "stdout",
     "output_type": "stream",
     "text": [
      "[[100  21]\n",
      " [ 40  31]]\n",
      "Classification report : \n",
      "               precision    recall  f1-score   support\n",
      "\n",
      "           0       0.71      0.83      0.77       121\n",
      "           1       0.60      0.44      0.50        71\n",
      "\n",
      "    accuracy                           0.68       192\n",
      "   macro avg       0.66      0.63      0.64       192\n",
      "weighted avg       0.67      0.68      0.67       192\n",
      "\n",
      "Accuracy Score: 0.6822916666666666\n"
     ]
    }
   ],
   "source": [
    "k3 = KNeighborsClassifier(n_neighbors = 9)\n",
    "k3.fit(x_train,y_train)\n",
    "y_pred = k3.predict(x_test)\n",
    "print(confusion_matrix(y_test,y_pred))\n",
    "print(\"Classification report : \\n\", classification_report(y_test,y_pred))\n",
    "ac3 = accuracy_score(y_test,y_pred)\n",
    "print(\"Accuracy Score:\",ac3)"
   ]
  },
  {
   "cell_type": "markdown",
   "id": "7fb58c26",
   "metadata": {},
   "source": [
    "### 5.2(iii) K Fold Cross Validation"
   ]
  },
  {
   "cell_type": "code",
   "execution_count": 22,
   "id": "5dfcd30e",
   "metadata": {},
   "outputs": [
    {
     "name": "stdout",
     "output_type": "stream",
     "text": [
      "K Fold performs better than cross validation\n"
     ]
    }
   ],
   "source": [
    "print(\"K Fold performs better than cross validation\")"
   ]
  },
  {
   "cell_type": "markdown",
   "id": "f780d7ac",
   "metadata": {},
   "source": [
    "### 5.3 Standard Scaler"
   ]
  },
  {
   "cell_type": "code",
   "execution_count": 23,
   "id": "ce9b6776",
   "metadata": {},
   "outputs": [
    {
     "data": {
      "image/png": "[encoded data removed]",
      "text/plain": [
       "<Figure size 1000x500 with 1 Axes>"
      ]
     },
     "metadata": {},
     "output_type": "display_data"
    }
   ],
   "source": [
    "x_train, x_test, y_train, y_test = train_test_split(x,y,test_size = 0.20, random_state=10)\n",
    "test_scores = []\n",
    "train_scores = []\n",
    "for i in range(1,15):\n",
    " knn = KNeighborsClassifier(i)\n",
    " knn.fit(x_train,y_train)\n",
    " \n",
    " train_scores.append(knn.score(x_train,y_train))\n",
    " test_scores.append(knn.score(x_test,y_test))\n",
    "plt.figure(figsize = (10,5))\n",
    "p = sns.lineplot(range(1,15),train_scores,marker='*',label='Train Score')\n",
    "p = sns.lineplot(range(1,15),test_scores,marker='o',label='Test Score')"
   ]
  },
  {
   "cell_type": "code",
   "execution_count": 24,
   "id": "b5a9fbb2",
   "metadata": {},
   "outputs": [
    {
     "name": "stdout",
     "output_type": "stream",
     "text": [
      "[[78 17]\n",
      " [30 29]]\n",
      "Classification report : \n",
      "               precision    recall  f1-score   support\n",
      "\n",
      "           0       0.72      0.82      0.77        95\n",
      "           1       0.63      0.49      0.55        59\n",
      "\n",
      "    accuracy                           0.69       154\n",
      "   macro avg       0.68      0.66      0.66       154\n",
      "weighted avg       0.69      0.69      0.69       154\n",
      "\n",
      "Accuracy Score: 0.6948051948051948\n"
     ]
    }
   ],
   "source": [
    "k5 = KNeighborsClassifier(n_neighbors = 9)\n",
    "k5.fit(x_train,y_train)\n",
    "y_pred = k5.predict(x_test)\n",
    "print(confusion_matrix(y_test,y_pred))\n",
    "print(\"Classification report : \\n\", classification_report(y_test,y_pred))\n",
    "ac5 = accuracy_score(y_test,y_pred)\n",
    "print(\"Accuracy Score:\",ac5)"
   ]
  },
  {
   "cell_type": "markdown",
   "id": "c4ae6f13",
   "metadata": {},
   "source": [
    "### Comparing Standard Scaler with default parameters"
   ]
  },
  {
   "cell_type": "code",
   "execution_count": 25,
   "id": "ead912c3",
   "metadata": {},
   "outputs": [
    {
     "name": "stdout",
     "output_type": "stream",
     "text": [
      "Standard Scaler performs better\n"
     ]
    }
   ],
   "source": [
    "print(\"Standard Scaler performs better\")"
   ]
  },
  {
   "cell_type": "markdown",
   "id": "96938e67",
   "metadata": {},
   "source": [
    "# 2.Decision Tree\n",
    "### 5.1a) Splitting the dataframe into training and testing data in 75:25 ratio"
   ]
  },
  {
   "cell_type": "code",
   "execution_count": 26,
   "id": "31847b84",
   "metadata": {},
   "outputs": [
    {
     "name": "stdout",
     "output_type": "stream",
     "text": [
      "[[104  26]\n",
      " [ 31  31]]\n",
      "Classification report : \n",
      "               precision    recall  f1-score   support\n",
      "\n",
      "           0       0.77      0.80      0.78       130\n",
      "           1       0.54      0.50      0.52        62\n",
      "\n",
      "    accuracy                           0.70       192\n",
      "   macro avg       0.66      0.65      0.65       192\n",
      "weighted avg       0.70      0.70      0.70       192\n",
      "\n",
      "Accuracy Score: 0.703125\n"
     ]
    }
   ],
   "source": [
    "x_train, x_test, y_train, y_test = train_test_split(x,y,test_size = 0.25, random_state=25)\n",
    "dt1 = DecisionTreeClassifier()\n",
    "dt1.fit(x_train, y_train)\n",
    " \n",
    "y_pred = dt1.predict(x_test)\n",
    "y_pred\n",
    " \n",
    "print(confusion_matrix(y_test,y_pred))\n",
    " \n",
    "print(\"Classification report : \\n\", classification_report(y_test,y_pred))\n",
    " \n",
    "ac1 = accuracy_score(y_test,y_pred)\n",
    "print(\"Accuracy Score:\",ac1)"
   ]
  },
  {
   "cell_type": "markdown",
   "id": "3e13144f",
   "metadata": {},
   "source": [
    "### 5.1(b) Splitting the dataframe into training and testing data in 66.6:33.3 ratio"
   ]
  },
  {
   "cell_type": "code",
   "execution_count": 27,
   "id": "9b2be2c7",
   "metadata": {},
   "outputs": [
    {
     "name": "stdout",
     "output_type": "stream",
     "text": [
      "[[130  41]\n",
      " [ 37  48]]\n",
      "Classification report : \n",
      "               precision    recall  f1-score   support\n",
      "\n",
      "           0       0.78      0.76      0.77       171\n",
      "           1       0.54      0.56      0.55        85\n",
      "\n",
      "    accuracy                           0.70       256\n",
      "   macro avg       0.66      0.66      0.66       256\n",
      "weighted avg       0.70      0.70      0.70       256\n",
      "\n",
      "Accuracy Score: 0.6953125\n"
     ]
    }
   ],
   "source": [
    "x_train, x_test, y_train, y_test = train_test_split(x,y,test_size = 0.333, random_state=25)\n",
    "dt2 = DecisionTreeClassifier()\n",
    "dt2.fit(x_train, y_train)\n",
    " \n",
    "y_pred = dt2.predict(x_test)\n",
    "y_pred\n",
    " \n",
    "print(confusion_matrix(y_test,y_pred))\n",
    " \n",
    "print(\"Classification report : \\n\", classification_report(y_test,y_pred))\n",
    " \n",
    "ac2 = accuracy_score(y_test,y_pred)\n",
    "print(\"Accuracy Score:\",ac2)\n"
   ]
  },
  {
   "cell_type": "markdown",
   "id": "31900bec",
   "metadata": {},
   "source": [
    "### Comparing accuracy score of 25% and 33.3% split"
   ]
  },
  {
   "cell_type": "code",
   "execution_count": 28,
   "id": "fed976db",
   "metadata": {},
   "outputs": [
    {
     "name": "stdout",
     "output_type": "stream",
     "text": [
      "Test data of 25% data is better\n"
     ]
    }
   ],
   "source": [
    "if acl > ac2:\n",
    " print(\"Test data of 25% data is better\")\n",
    "else:\n",
    " print(\"Test data of 33.3% data is better\")"
   ]
  },
  {
   "cell_type": "markdown",
   "id": "756049b8",
   "metadata": {},
   "source": [
    "### 5.2(i) Holdout Method"
   ]
  },
  {
   "cell_type": "code",
   "execution_count": 29,
   "id": "f6172224",
   "metadata": {},
   "outputs": [
    {
     "name": "stdout",
     "output_type": "stream",
     "text": [
      "[[101  29]\n",
      " [ 30  32]]\n",
      "Classification report : \n",
      "               precision    recall  f1-score   support\n",
      "\n",
      "           0       0.77      0.78      0.77       130\n",
      "           1       0.52      0.52      0.52        62\n",
      "\n",
      "    accuracy                           0.69       192\n",
      "   macro avg       0.65      0.65      0.65       192\n",
      "weighted avg       0.69      0.69      0.69       192\n",
      "\n",
      "Accuracy Score: 0.6927083333333334\n"
     ]
    }
   ],
   "source": [
    "x_train, x_test, y_train, y_test = train_test_split(x,y,test_size = 0.25, random_state=25)\n",
    "dt3 = DecisionTreeClassifier()\n",
    "dt3.fit(x_train, y_train)\n",
    " \n",
    "y_pred = dt3.predict(x_test)\n",
    "y_pred\n",
    " \n",
    "print(confusion_matrix(y_test,y_pred))\n",
    " \n",
    "print(\"Classification report : \\n\", classification_report(y_test,y_pred))\n",
    " \n",
    "ac3 = accuracy_score(y_test,y_pred)\n",
    "print(\"Accuracy Score:\",ac3)"
   ]
  },
  {
   "cell_type": "markdown",
   "id": "bb9147fa",
   "metadata": {},
   "source": [
    "### 5.2(iii) K Fold Cross Validation"
   ]
  },
  {
   "cell_type": "code",
   "execution_count": 30,
   "id": "59fb383f",
   "metadata": {},
   "outputs": [
    {
     "name": "stdout",
     "output_type": "stream",
     "text": [
      "[0.70689655 0.80869565 0.74782609 0.7826087  0.76521739]\n",
      "Avg accuracy: 0.7622488755622189\n"
     ]
    }
   ],
   "source": [
    "kfold = model_selection.KFold(n_splits = 5,random_state = 10,shuffle = True)\n",
    "result = model_selection.cross_val_score(gbl,x_train,y_train,cv = kfold)\n",
    "print(result)\n",
    "print(\"Avg accuracy: {}\".format(result.mean()))"
   ]
  },
  {
   "cell_type": "markdown",
   "id": "50aac58c",
   "metadata": {},
   "source": [
    "### Comparing Hold Method and Cross Validation"
   ]
  },
  {
   "cell_type": "code",
   "execution_count": 31,
   "id": "912402ff",
   "metadata": {},
   "outputs": [
    {
     "name": "stdout",
     "output_type": "stream",
     "text": [
      "K Fold performs better than cross validation\n"
     ]
    }
   ],
   "source": [
    "print(\"K Fold performs better than cross validation\")"
   ]
  },
  {
   "cell_type": "markdown",
   "id": "906baf5a",
   "metadata": {},
   "source": [
    "### 5.3 Standard Scaler"
   ]
  },
  {
   "cell_type": "code",
   "execution_count": 32,
   "id": "ae55f5ce",
   "metadata": {},
   "outputs": [
    {
     "name": "stdout",
     "output_type": "stream",
     "text": [
      "[[81 22]\n",
      " [27 24]]\n",
      "Classification report : \n",
      "               precision    recall  f1-score   support\n",
      "\n",
      "           0       0.75      0.79      0.77       103\n",
      "           1       0.52      0.47      0.49        51\n",
      "\n",
      "    accuracy                           0.68       154\n",
      "   macro avg       0.64      0.63      0.63       154\n",
      "weighted avg       0.67      0.68      0.68       154\n",
      "\n",
      "Accuracy Score: 0.6818181818181818\n"
     ]
    }
   ],
   "source": [
    "x_train, x_test, y_train, y_test = train_test_split(x,y,test_size = 0.20, random_state=25)\n",
    "dt5 = DecisionTreeClassifier()\n",
    "dt5.fit(x_train, y_train)\n",
    " \n",
    "y_pred = dt5.predict(x_test)\n",
    "y_pred\n",
    " \n",
    "print(confusion_matrix(y_test,y_pred))\n",
    " \n",
    "print(\"Classification report : \\n\", classification_report(y_test,y_pred))\n",
    " \n",
    "ac5 = accuracy_score(y_test,y_pred)\n",
    "print(\"Accuracy Score:\",ac5)"
   ]
  },
  {
   "cell_type": "markdown",
   "id": "7b14c580",
   "metadata": {},
   "source": [
    "### Comparing Standard Scaler with default parameters"
   ]
  },
  {
   "cell_type": "code",
   "execution_count": 33,
   "id": "77b45152",
   "metadata": {},
   "outputs": [
    {
     "name": "stdout",
     "output_type": "stream",
     "text": [
      "Standard Scaler performs better \n"
     ]
    }
   ],
   "source": [
    "print(\"Standard Scaler performs better \")"
   ]
  },
  {
   "cell_type": "code",
   "execution_count": null,
   "id": "347ae318",
   "metadata": {},
   "outputs": [],
   "source": []
  },
  {
   "cell_type": "code",
   "execution_count": null,
   "id": "20df92e6",
   "metadata": {},
   "outputs": [],
   "source": []
  }
 ],
 "metadata": {
  "kernelspec": {
   "display_name": "Python 3 (ipykernel)",
   "language": "python",
   "name": "python3"
  },
  "language_info": {
   "codemirror_mode": {
    "name": "ipython",
    "version": 3
   },
   "file_extension": ".py",
   "mimetype": "text/x-python",
   "name": "python",
   "nbconvert_exporter": "python",
   "pygments_lexer": "ipython3",
   "version": "3.9.13"
  }
 },
 "nbformat": 4,
 "nbformat_minor": 5
}
